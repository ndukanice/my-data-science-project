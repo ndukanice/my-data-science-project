{
 "cells": [
  {
   "cell_type": "code",
   "execution_count": null,
   "id": "f3851abf-c0cc-40a2-9830-8de528b01ca7",
   "metadata": {},
   "outputs": [],
   "source": [
    "# Data Science Tools and Ecosystem\n"
   ]
  },
  {
   "cell_type": "markdown",
   "id": "a06a05f4-2306-4c6f-9792-6e6a359ec10c",
   "metadata": {},
   "source": [
    "# in this notebook Data Science Tools and Ecosystem are sumamarized "
   ]
  },
  {
   "cell_type": "markdown",
   "id": "255ea161-3763-449e-afac-5997142651a9",
   "metadata": {},
   "source": [
    "**Objectives:**\n",
    "\n",
    "- List popular languages for Data Science  \n",
    "- Identify commonly used libraries in Data Science  \n",
    "- Create tables and lists using Markdown  \n",
    "- Evaluate arithmetic expressions in Python  \n",
    "- Convert units (e.g. minutes to hours) using Python\n"
   ]
  },
  {
   "cell_type": "markdown",
   "id": "7099e0be-7346-416e-95b9-d7de3269bf76",
   "metadata": {},
   "source": [
    "Some of the popular languages that Data Scientists use are:\n",
    "\n",
    "1. Python\n",
    "2. R\n",
    "3. SQL\n",
    "4. Julia\n",
    "5. Scala\n"
   ]
  },
  {
   "cell_type": "markdown",
   "id": "b574344b-ebe4-4bdd-a5d6-b234ecfa3269",
   "metadata": {},
   "source": [
    "Some of the commonly used libraries used by Data Scientists include:\n",
    "\n",
    "1. NumPy  \n",
    "2. Pandas  \n",
    "3. Matplotlib  \n",
    "4. Scikit-learn  \n",
    "5. Seaborn\n"
   ]
  },
  {
   "cell_type": "markdown",
   "id": "fb15ba4a-b64e-402b-830a-43120c4a017a",
   "metadata": {},
   "source": [
    "| Data Science Tools         |\n",
    "|----------------------------|\n",
    "| Jupyter Notebook           |\n",
    "| RStudio                    |\n",
    "| Apache Zeppelin            |\n"
   ]
  },
  {
   "cell_type": "markdown",
   "id": "05a8361f-29ed-4873-80e9-80047b9d67fb",
   "metadata": {},
   "source": [
    "### Below are a few examples of evaluating arithmetic expressions in Python.\n"
   ]
  },
  {
   "cell_type": "code",
   "execution_count": 5,
   "id": "7635ad7c-d326-4b51-aab6-dcbca489e5f4",
   "metadata": {},
   "outputs": [
    {
     "data": {
      "text/plain": [
       "17"
      ]
     },
     "execution_count": 5,
     "metadata": {},
     "output_type": "execute_result"
    }
   ],
   "source": [
    "# This is a simple arithmetic expression to multiply then add integers\n",
    "\n",
    "(3 * 4) + 5\n"
   ]
  },
  {
   "cell_type": "code",
   "execution_count": 6,
   "id": "53a4f538-d646-4ed6-97cf-d41f95286420",
   "metadata": {},
   "outputs": [
    {
     "data": {
      "text/plain": [
       "3.3333333333333335"
      ]
     },
     "execution_count": 6,
     "metadata": {},
     "output_type": "execute_result"
    }
   ],
   "source": [
    "# This will convert 200 minutes to hours by dividing by 60\n",
    "200 / 60\n"
   ]
  },
  {
   "cell_type": "markdown",
   "id": "d416348b-c9f3-4c85-baea-e6a6b2665679",
   "metadata": {},
   "source": [
    "## Author\n",
    "\n",
    "Emmanuel Eze\n"
   ]
  },
  {
   "cell_type": "code",
   "execution_count": null,
   "id": "c6ea4271-3000-4a91-aa6e-6b6f37dfdc98",
   "metadata": {},
   "outputs": [],
   "source": []
  }
 ],
 "metadata": {
  "kernelspec": {
   "display_name": "Python 3 (ipykernel)",
   "language": "python",
   "name": "python3"
  },
  "language_info": {
   "codemirror_mode": {
    "name": "ipython",
    "version": 3
   },
   "file_extension": ".py",
   "mimetype": "text/x-python",
   "name": "python",
   "nbconvert_exporter": "python",
   "pygments_lexer": "ipython3",
   "version": "3.12.7"
  }
 },
 "nbformat": 4,
 "nbformat_minor": 5
}
